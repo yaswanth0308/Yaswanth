{
 "cells": [
  {
   "cell_type": "markdown",
   "id": "33a5c0d8",
   "metadata": {},
   "source": [
    "Question :1"
   ]
  },
  {
   "cell_type": "code",
   "execution_count": 1,
   "id": "4e6847f8",
   "metadata": {},
   "outputs": [],
   "source": [
    "import numpy as np"
   ]
  },
  {
   "cell_type": "code",
   "execution_count": 2,
   "id": "9d72ddb4",
   "metadata": {},
   "outputs": [
    {
     "data": {
      "text/plain": [
       "[19, 19, 20, 22, 24, 24, 24, 25, 25, 26]"
      ]
     },
     "execution_count": 2,
     "metadata": {},
     "output_type": "execute_result"
    }
   ],
   "source": [
    "#ages = [19, 22, 19, 24, 20, 25, 26, 24, 25, 24]#\n",
    "#Sort the list and find the min and max age#\n",
    "\n",
    "ages = [19, 22, 19, 24, 20, 25, 26, 24, 25, 24]\n",
    "ages.sort() #sorting the ages using sort function#\n",
    "ages"
   ]
  },
  {
   "cell_type": "code",
   "execution_count": 3,
   "id": "2f13f9d9",
   "metadata": {},
   "outputs": [
    {
     "data": {
      "text/plain": [
       "[19, 19, 20, 22, 24, 24, 24, 25, 25, 26, 19, 26]"
      ]
     },
     "execution_count": 3,
     "metadata": {},
     "output_type": "execute_result"
    }
   ],
   "source": [
    "#Add the min age and the max age again to the list#\n",
    "\n",
    "ages.append(min(ages)) #Adding min ages to the ages#\n",
    "ages.append(max(ages)) #Adding man ages to the ages#\n",
    "ages"
   ]
  },
  {
   "cell_type": "code",
   "execution_count": 4,
   "id": "f689d193",
   "metadata": {},
   "outputs": [
    {
     "data": {
      "text/plain": [
       "24.0"
      ]
     },
     "execution_count": 4,
     "metadata": {},
     "output_type": "execute_result"
    }
   ],
   "source": [
    "#Find the median age (one middle item or two middle items divided by two)#\n",
    "\n",
    "np.median(ages) #Using median function to find the middle item#"
   ]
  },
  {
   "cell_type": "code",
   "execution_count": 5,
   "id": "1bd20b73",
   "metadata": {},
   "outputs": [
    {
     "data": {
      "text/plain": [
       "22.75"
      ]
     },
     "execution_count": 5,
     "metadata": {},
     "output_type": "execute_result"
    }
   ],
   "source": [
    "#Find the average age (sum of all items divided by their number)#\n",
    "\n",
    "np.average(ages) #Using average function to find the average age#"
   ]
  },
  {
   "cell_type": "code",
   "execution_count": 7,
   "id": "b48c3520",
   "metadata": {},
   "outputs": [
    {
     "data": {
      "text/plain": [
       "range(19, 26)"
      ]
     },
     "execution_count": 7,
     "metadata": {},
     "output_type": "execute_result"
    }
   ],
   "source": [
    "#Find the range of the ages (max minus min)\n",
    "\n",
    "range_ages = range(min(ages),max(ages)) #range of ages form min to max\n",
    "range_ages"
   ]
  },
  {
   "cell_type": "markdown",
   "id": "ca759dc8",
   "metadata": {},
   "source": [
    "Question :2"
   ]
  },
  {
   "cell_type": "code",
   "execution_count": 13,
   "id": "01edeb35",
   "metadata": {},
   "outputs": [
    {
     "data": {
      "text/plain": [
       "{'name': 'peter',\n",
       " 'color': 'black',\n",
       " 'breed': 'Bernedoddle',\n",
       " 'legs': 'four',\n",
       " 'age': '17 weeks'}"
      ]
     },
     "execution_count": 13,
     "metadata": {},
     "output_type": "execute_result"
    }
   ],
   "source": [
    "#Create an empty dictionary called dog#\n",
    "#Add name, color, breed, legs, age to the dog dictionary#\n",
    "\n",
    "dog = {\n",
    "'name' : 'peter',\n",
    "'color' : 'black',\n",
    "'breed' : 'Bernedoddle',\n",
    "'legs' : 'four',\n",
    "'age' : '17 weeks'\n",
    "}#adding name, color, breed, legs, age keys to empty dictionary dog#\n",
    "dog"
   ]
  },
  {
   "cell_type": "code",
   "execution_count": 14,
   "id": "d8e6e23d",
   "metadata": {},
   "outputs": [
    {
     "data": {
      "text/plain": [
       "{'first_name': 'Yaswanth',\n",
       " 'last_name': 'Inuganti',\n",
       " 'gender': 'Male',\n",
       " 'age': 23,\n",
       " 'marital_status': 'single',\n",
       " 'skills': ['Positive attitude'],\n",
       " 'city': 'Kansas',\n",
       " 'address': 'Floyd Dr'}"
      ]
     },
     "execution_count": 14,
     "metadata": {},
     "output_type": "execute_result"
    }
   ],
   "source": [
    "#Create a student dictionary and add first_name, last_name, gender, age, marital status,skills, \n",
    "#country, city and address as keys for the dictionary#\n",
    "student = {\n",
    "'first_name' : 'Yaswanth',\n",
    "'last_name' : 'Inuganti',\n",
    "'gender' : 'Male',\n",
    "'age' : 23,\n",
    "'marital_status' : 'single',\n",
    "'skills' : ['Positive attitude'],\n",
    "'city' : 'Kansas',\n",
    "'address' : 'Floyd Dr'\n",
    "} #adding first_name, last_name, gender, age, marital status,skills, country, city and address as keys for student dictionary#\n",
    "student"
   ]
  },
  {
   "cell_type": "code",
   "execution_count": 15,
   "id": "20cd9be1",
   "metadata": {},
   "outputs": [
    {
     "data": {
      "text/plain": [
       "8"
      ]
     },
     "execution_count": 15,
     "metadata": {},
     "output_type": "execute_result"
    }
   ],
   "source": [
    "#Get the length of the student dictionary#\n",
    "\n",
    "len(student)#Using len fuction to find length of dictionary#"
   ]
  },
  {
   "cell_type": "code",
   "execution_count": 16,
   "id": "9ea07533",
   "metadata": {},
   "outputs": [
    {
     "name": "stdout",
     "output_type": "stream",
     "text": [
      "['Positive attitude']\n",
      "<class 'list'>\n"
     ]
    }
   ],
   "source": [
    "#Get the value of skills and check the data type, it should be a list#\n",
    "\n",
    "print(student['skills'])#printing the value of skills key from dictionary student# \n",
    "print(type(student['skills']))#printing the type of skills key from dictionary student#"
   ]
  },
  {
   "cell_type": "code",
   "execution_count": 17,
   "id": "427d03d9",
   "metadata": {},
   "outputs": [
    {
     "data": {
      "text/plain": [
       "{'first_name': 'Yaswanth',\n",
       " 'last_name': 'Inuganti',\n",
       " 'gender': 'Male',\n",
       " 'age': 23,\n",
       " 'marital_status': 'single',\n",
       " 'skills': ['Positive attitude', 'multi-tasking'],\n",
       " 'city': 'Kansas',\n",
       " 'address': 'Floyd Dr'}"
      ]
     },
     "execution_count": 17,
     "metadata": {},
     "output_type": "execute_result"
    }
   ],
   "source": [
    "#Modify the skills values by adding one or two skills#\n",
    "\n",
    "student['skills'].append('multi-tasking')#Using append function to add one more value to key skills# \n",
    "student"
   ]
  },
  {
   "cell_type": "code",
   "execution_count": 18,
   "id": "acebd10b",
   "metadata": {},
   "outputs": [
    {
     "data": {
      "text/plain": [
       "dict_keys(['first_name', 'last_name', 'gender', 'age', 'marital_status', 'skills', 'city', 'address'])"
      ]
     },
     "execution_count": 18,
     "metadata": {},
     "output_type": "execute_result"
    }
   ],
   "source": [
    "#Get the dictionary keys as a list#\n",
    "\n",
    "student.keys()#Get the keys as list using .keys#"
   ]
  },
  {
   "cell_type": "code",
   "execution_count": 20,
   "id": "d4af7f68",
   "metadata": {},
   "outputs": [
    {
     "data": {
      "text/plain": [
       "dict_values(['Yaswanth', 'Inuganti', 'Male', 23, 'single', ['Positive attitude', 'multi-tasking'], 'Kansas', 'Floyd Dr'])"
      ]
     },
     "execution_count": 20,
     "metadata": {},
     "output_type": "execute_result"
    }
   ],
   "source": [
    "#Get the dictionary values as a list#\n",
    "\n",
    "student.values()#Get the values as list using .values#"
   ]
  },
  {
   "cell_type": "markdown",
   "id": "6afec2f1",
   "metadata": {},
   "source": [
    "Question :3"
   ]
  },
  {
   "cell_type": "code",
   "execution_count": 1,
   "id": "7a8cdde2",
   "metadata": {},
   "outputs": [
    {
     "data": {
      "text/plain": [
       "('john', 'johnson', 'trump', 'biedon')"
      ]
     },
     "execution_count": 1,
     "metadata": {},
     "output_type": "execute_result"
    }
   ],
   "source": [
    "#Create a tuple containing names of your sisters and your brothers (imaginary siblings are fine)#\n",
    "\n",
    "S1 = ('john','johnson','trump','biedon')#tuple s1 containings names of siblings#\n",
    "S1"
   ]
  },
  {
   "cell_type": "code",
   "execution_count": 4,
   "id": "288da555",
   "metadata": {},
   "outputs": [
    {
     "data": {
      "text/plain": [
       "('trump', 'biedon', 'john', 'johnson')"
      ]
     },
     "execution_count": 4,
     "metadata": {},
     "output_type": "execute_result"
    }
   ],
   "source": [
    "#Join brothers and sisters tuples and assign it to siblings#\n",
    "\n",
    "brothers = ('john','johnson')#tuple brothers containing john and johnson#\n",
    "sisters = ('trump','biedon') #tuple sisters containing trump and biedon#\n",
    "siblings = sisters + brothers#joining the two tuples(sisters and brothers) into new tuple(siblings)# \n",
    "siblings"
   ]
  },
  {
   "cell_type": "code",
   "execution_count": 5,
   "id": "cb4f26d3",
   "metadata": {},
   "outputs": [
    {
     "data": {
      "text/plain": [
       "4"
      ]
     },
     "execution_count": 5,
     "metadata": {},
     "output_type": "execute_result"
    }
   ],
   "source": [
    "#How many siblings do you have?#\n",
    "\n",
    "len(siblings)#Using len function to find length of tuple siblings#"
   ]
  },
  {
   "cell_type": "code",
   "execution_count": 6,
   "id": "075b8d04",
   "metadata": {},
   "outputs": [
    {
     "data": {
      "text/plain": [
       "('trump', 'biedon', 'john', 'johnson', 'paul', 'jenny')"
      ]
     },
     "execution_count": 6,
     "metadata": {},
     "output_type": "execute_result"
    }
   ],
   "source": [
    " #Modify the siblings tuple and add the name of your father and mother and assign it to family_members#\n",
    "    \n",
    "father = 'modi'\n",
    "mother = 'indira gandi'\n",
    "family_members = siblings + (father,mother)#adding the parents names and siblings to family_members #\n",
    "family_members"
   ]
  },
  {
   "cell_type": "markdown",
   "id": "cf8b4e59",
   "metadata": {},
   "source": [
    "Question :4"
   ]
  },
  {
   "cell_type": "code",
   "execution_count": 14,
   "id": "43c3592e",
   "metadata": {},
   "outputs": [],
   "source": [
    "it_companies = {'Facebook', 'Google', 'Microsoft', 'Apple', 'IBM', 'Oracle', 'Amazon'}\n",
    "A = {19, 22, 24, 20, 25, 26}\n",
    "B = {19, 22, 20, 25, 26, 24, 28, 27}\n",
    "age = [22, 19, 24, 25, 26, 24, 25, 24]"
   ]
  },
  {
   "cell_type": "code",
   "execution_count": 15,
   "id": "7b2d2081",
   "metadata": {},
   "outputs": [
    {
     "data": {
      "text/plain": [
       "7"
      ]
     },
     "execution_count": 15,
     "metadata": {},
     "output_type": "execute_result"
    }
   ],
   "source": [
    "#Find the length of the set it_companies#\n",
    "\n",
    "len(it_companies)#Using len fuction to find length#"
   ]
  },
  {
   "cell_type": "code",
   "execution_count": 17,
   "id": "460a30b1",
   "metadata": {},
   "outputs": [
    {
     "data": {
      "text/plain": [
       "{'Amazon',\n",
       " 'Apple',\n",
       " 'Facebook',\n",
       " 'Google',\n",
       " 'IBM',\n",
       " 'Microsoft',\n",
       " 'Oracle',\n",
       " 'Twitter'}"
      ]
     },
     "execution_count": 17,
     "metadata": {},
     "output_type": "execute_result"
    }
   ],
   "source": [
    "#Add 'Twitter' to it_companies#\n",
    "\n",
    "it_companies.add('Twitter')#adding the value twitter to list#\n",
    "it_companies"
   ]
  },
  {
   "cell_type": "code",
   "execution_count": 18,
   "id": "429190c9",
   "metadata": {},
   "outputs": [
    {
     "data": {
      "text/plain": [
       "{'Amazon',\n",
       " 'Apple',\n",
       " 'Facebook',\n",
       " 'Google',\n",
       " 'IBM',\n",
       " 'Infosis',\n",
       " 'Microsoft',\n",
       " 'Oracle',\n",
       " 'Twitter',\n",
       " 'Wipro'}"
      ]
     },
     "execution_count": 18,
     "metadata": {},
     "output_type": "execute_result"
    }
   ],
   "source": [
    "#Insert multiple IT companies at once to the set it_companies#\n",
    "\n",
    "it_companies.update(['Wipro','Infosis'])#Using update fuction to add multiple values to it_companies#\n",
    "it_companies"
   ]
  },
  {
   "cell_type": "code",
   "execution_count": 19,
   "id": "2c990fe8",
   "metadata": {},
   "outputs": [
    {
     "data": {
      "text/plain": [
       "{'Amazon',\n",
       " 'Apple',\n",
       " 'Facebook',\n",
       " 'Google',\n",
       " 'IBM',\n",
       " 'Infosis',\n",
       " 'Microsoft',\n",
       " 'Oracle',\n",
       " 'Twitter'}"
      ]
     },
     "execution_count": 19,
     "metadata": {},
     "output_type": "execute_result"
    }
   ],
   "source": [
    "#Remove one of the companies from the set it_companies#\n",
    "\n",
    "it_companies.remove('Wipro')#Using remove fuction to remove a value from it_companies#\n",
    "it_companies"
   ]
  },
  {
   "cell_type": "code",
   "execution_count": null,
   "id": "97a6da60",
   "metadata": {},
   "outputs": [],
   "source": [
    "#What is the difference between remove and discard#\n",
    "\n",
    "Using remove will throw exception while discard doesnt throw exception"
   ]
  },
  {
   "cell_type": "code",
   "execution_count": 20,
   "id": "b22d2a9c",
   "metadata": {},
   "outputs": [
    {
     "data": {
      "text/plain": [
       "{19, 20, 22, 24, 25, 26, 27, 28}"
      ]
     },
     "execution_count": 20,
     "metadata": {},
     "output_type": "execute_result"
    }
   ],
   "source": [
    "#Join A and B\n",
    "\n",
    "A.union(B)#Union fuction is used to join "
   ]
  },
  {
   "cell_type": "code",
   "execution_count": 21,
   "id": "212acc00",
   "metadata": {},
   "outputs": [
    {
     "data": {
      "text/plain": [
       "{19, 20, 22, 24, 25, 26}"
      ]
     },
     "execution_count": 21,
     "metadata": {},
     "output_type": "execute_result"
    }
   ],
   "source": [
    "#Find A intersection B\n",
    "\n",
    "A.intersection(B)#intersection fuction is used to find common values"
   ]
  },
  {
   "cell_type": "code",
   "execution_count": 22,
   "id": "e0e87888",
   "metadata": {},
   "outputs": [
    {
     "data": {
      "text/plain": [
       "True"
      ]
     },
     "execution_count": 22,
     "metadata": {},
     "output_type": "execute_result"
    }
   ],
   "source": [
    "#Is A subset of B\n",
    "\n",
    "A.issubset(B)#issubset is a boolean function it returns true or false"
   ]
  },
  {
   "cell_type": "code",
   "execution_count": 37,
   "id": "fc2e1be3",
   "metadata": {},
   "outputs": [
    {
     "data": {
      "text/plain": [
       "False"
      ]
     },
     "execution_count": 37,
     "metadata": {},
     "output_type": "execute_result"
    }
   ],
   "source": [
    "#Are A and B disjoint sets\n",
    "\n",
    "\n",
    "A.isdisjoint(B)#isdisjoint is a boolean function it returns true or false "
   ]
  },
  {
   "cell_type": "code",
   "execution_count": 38,
   "id": "1d0cdd36",
   "metadata": {},
   "outputs": [
    {
     "data": {
      "text/plain": [
       "{19, 20, 22, 24, 25, 26, 27, 28}"
      ]
     },
     "execution_count": 38,
     "metadata": {},
     "output_type": "execute_result"
    }
   ],
   "source": [
    "#Join A with B and B with A\n",
    "\n",
    "A.union(B) and B.union(A)#using operation fuction 'and' and union fuction to join to to functions "
   ]
  },
  {
   "cell_type": "code",
   "execution_count": 39,
   "id": "51e486a3",
   "metadata": {},
   "outputs": [
    {
     "data": {
      "text/plain": [
       "{27, 28}"
      ]
     },
     "execution_count": 39,
     "metadata": {},
     "output_type": "execute_result"
    }
   ],
   "source": [
    "#What is the symmetric difference between A and B\n",
    "\n",
    "A.symmetric_difference(B)#function symmetric_difference is used to get elements that are not in intersection"
   ]
  },
  {
   "cell_type": "code",
   "execution_count": 40,
   "id": "8cdb43bc",
   "metadata": {},
   "outputs": [],
   "source": [
    "#Delete the sets completely\n",
    "\n",
    "del A #function del is used to completly delete the set\n",
    "del B"
   ]
  },
  {
   "cell_type": "code",
   "execution_count": 23,
   "id": "f7affd4c",
   "metadata": {},
   "outputs": [
    {
     "data": {
      "text/plain": [
       "{19, 22, 24, 25, 26}"
      ]
     },
     "execution_count": 23,
     "metadata": {},
     "output_type": "execute_result"
    }
   ],
   "source": [
    "#Convert the ages to a set \n",
    "\n",
    "set_ages = set(age)#converting list to set\n",
    "set_ages"
   ]
  },
  {
   "cell_type": "code",
   "execution_count": 24,
   "id": "2c00754d",
   "metadata": {},
   "outputs": [
    {
     "data": {
      "text/plain": [
       "(8, 5)"
      ]
     },
     "execution_count": 24,
     "metadata": {},
     "output_type": "execute_result"
    }
   ],
   "source": [
    "#compare the length of the list and the set\n",
    "\n",
    "len(age),len(set_ages)#comparing length of set and list"
   ]
  },
  {
   "cell_type": "markdown",
   "id": "5cd3a33a",
   "metadata": {},
   "source": [
    "Question 5:"
   ]
  },
  {
   "cell_type": "code",
   "execution_count": 25,
   "id": "c93cd922",
   "metadata": {},
   "outputs": [
    {
     "data": {
      "text/plain": [
       "2826.0"
      ]
     },
     "execution_count": 25,
     "metadata": {},
     "output_type": "execute_result"
    }
   ],
   "source": [
    "#• Calculate the area of a circle and assign the value to a variable name of _area_of_circle_\n",
    "\n",
    "radius = 30\n",
    "_area_of_circle_ = 3.14*radius**2     #area=pi*r^2\n",
    "_area_of_circle_"
   ]
  },
  {
   "cell_type": "code",
   "execution_count": 26,
   "id": "5ed8a988",
   "metadata": {},
   "outputs": [
    {
     "data": {
      "text/plain": [
       "188.4"
      ]
     },
     "execution_count": 26,
     "metadata": {},
     "output_type": "execute_result"
    }
   ],
   "source": [
    "#Calculate the circumference of a circle and assign the value to a variable name of _circum_of_circle_\n",
    "\n",
    "\n",
    "_circum_of_circle_ = 2*3.14*radius   #circumference=2*pi*r\n",
    "_circum_of_circle_"
   ]
  },
  {
   "cell_type": "code",
   "execution_count": 27,
   "id": "e93dede5",
   "metadata": {},
   "outputs": [
    {
     "name": "stdout",
     "output_type": "stream",
     "text": [
      "Enter the radius of circle = 10\n",
      "area of circle is : 314.0\n"
     ]
    }
   ],
   "source": [
    "#Take radius as user input and calculate the area\n",
    "\n",
    "r = float(input(\"Enter the radius of circle = \")) #radius as input\n",
    "area = 3.14*r**2\n",
    "print('area of circle is : {}'.format(area))"
   ]
  },
  {
   "cell_type": "markdown",
   "id": "e3e37e79",
   "metadata": {},
   "source": [
    "Question 6:"
   ]
  },
  {
   "cell_type": "code",
   "execution_count": 28,
   "id": "d2b388cb",
   "metadata": {},
   "outputs": [
    {
     "data": {
      "text/plain": [
       "10"
      ]
     },
     "execution_count": 28,
     "metadata": {},
     "output_type": "execute_result"
    }
   ],
   "source": [
    "#How many unique words have been used in the sentence? Use the split methods and set to get the unique words.\n",
    "\n",
    "s = \"I am a teacher and I love to inspire and teach people\"\n",
    "s1 = s.split(' ')#spliting the scentence into words\n",
    "set_s1=set(s1)\n",
    "set_s1\n",
    "len(set_s1) #count of words in scentence"
   ]
  },
  {
   "cell_type": "markdown",
   "id": "2395114f",
   "metadata": {},
   "source": [
    "Question 7:"
   ]
  },
  {
   "cell_type": "code",
   "execution_count": 30,
   "id": "4becb368",
   "metadata": {},
   "outputs": [
    {
     "name": "stdout",
     "output_type": "stream",
     "text": [
      "Name\t\tAge\tCountry\t\tCity\n",
      "Asabeneh\t250\tFinlan\t\tHelsinki\n"
     ]
    }
   ],
   "source": [
    "print('Name\\t\\tAge\\tCountry\\t\\tCity\\nAsabeneh\\t250\\tFinlan\\t\\tHelsinki')"
   ]
  },
  {
   "cell_type": "markdown",
   "id": "2d55f826",
   "metadata": {},
   "source": [
    "Question 8:"
   ]
  },
  {
   "cell_type": "code",
   "execution_count": 50,
   "id": "513b5cec",
   "metadata": {},
   "outputs": [
    {
     "name": "stdout",
     "output_type": "stream",
     "text": [
      "The area of circle with radius 10 is 314.0 meter square\n"
     ]
    }
   ],
   "source": [
    "#Use the string formatting method\n",
    "\n",
    "radius=10\n",
    "area=3.14*radius**2 #area formula in string formate\n",
    "print('The area of circle with radius',radius,'is',area,'meter square')"
   ]
  },
  {
   "cell_type": "markdown",
   "id": "2b674ce5",
   "metadata": {},
   "source": [
    "Question 9:"
   ]
  },
  {
   "cell_type": "code",
   "execution_count": 32,
   "id": "450450a7",
   "metadata": {},
   "outputs": [
    {
     "name": "stdout",
     "output_type": "stream",
     "text": [
      "Enter no of students: 4\n",
      "\n",
      "Enter student weights in lbs:\n",
      "150\n",
      "155\n",
      "145\n",
      "148\n",
      "[68.04, 70.31, 65.77, 67.13]\n"
     ]
    }
   ],
   "source": [
    "#Write a program, which reads weights (lbs.) of N students into a list and convert these weights to\n",
    "#kilograms in a separate list using Loop. N: No of students (Read input from user)\n",
    "\n",
    "\n",
    "lst = []\n",
    "weight = []\n",
    "no_of_students = int(input(\"Enter no of students: \"))\n",
    "print('\\nEnter student weights in lbs:')\n",
    "for i in range(0, no_of_students):\n",
    "    lst.append(int(input()))\n",
    "\n",
    "for i in range(0, no_of_students):\n",
    "    weight.append(round(0.453592 * lst[i], 2))\n",
    "\n",
    "print(weight)\n"
   ]
  },
  {
   "cell_type": "markdown",
   "id": "c0136d81",
   "metadata": {},
   "source": []
  },
  {
   "cell_type": "code",
   "execution_count": null,
   "id": "643c55de",
   "metadata": {},
   "outputs": [],
   "source": []
  }
 ],
 "metadata": {
  "kernelspec": {
   "display_name": "Python 3 (ipykernel)",
   "language": "python",
   "name": "python3"
  },
  "language_info": {
   "codemirror_mode": {
    "name": "ipython",
    "version": 3
   },
   "file_extension": ".py",
   "mimetype": "text/x-python",
   "name": "python",
   "nbconvert_exporter": "python",
   "pygments_lexer": "ipython3",
   "version": "3.9.12"
  }
 },
 "nbformat": 4,
 "nbformat_minor": 5
}
